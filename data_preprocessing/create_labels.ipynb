{
 "cells": [
  {
   "cell_type": "code",
   "execution_count": 14,
   "id": "c3c6086d",
   "metadata": {},
   "outputs": [],
   "source": [
    "import pandas as pd\n",
    "import pathlib\n",
    "from pathlib import PurePath, Path\n",
    "import numpy as np\n",
    "import os\n",
    "from tqdm import tqdm"
   ]
  },
  {
   "cell_type": "code",
   "execution_count": 15,
   "id": "45bb5b87",
   "metadata": {},
   "outputs": [],
   "source": [
    "def has_parent_X(path: Path, X: str) -> bool:\n",
    "    for parent in path.parents:\n",
    "        if parent.name == X:\n",
    "            return True\n",
    "    return False"
   ]
  },
  {
   "cell_type": "code",
   "execution_count": 29,
   "id": "b24c1f75",
   "metadata": {},
   "outputs": [
    {
     "name": "stderr",
     "output_type": "stream",
     "text": [
      "95731it [04:10, 381.44it/s]\n"
     ]
    }
   ],
   "source": [
    "# Define the base directory\n",
    "data_dir = Path('training_datasets')\n",
    "\n",
    "# Create a list of .fits files in the directory and its subdirectories\n",
    "file_list = data_dir.glob(\"**/**/**/*.fits\")\n",
    "\n",
    "# Initialize the DataFrame with the desired columns\n",
    "df = pd.DataFrame(columns=[\"file_name\", \"classes\"])\n",
    "\n",
    "# Function to check if a file has a specific parent directory\n",
    "def has_parent_X(path, parent_dir):\n",
    "    return parent_dir in path.parts\n",
    "\n",
    "# Iterate through the list of files\n",
    "for fl in tqdm(file_list):\n",
    "    # Remove the 'training_datasets/' prefix from the path\n",
    "    relative_path = fl.relative_to(data_dir).as_posix()\n",
    "\n",
    "    # Determine the class based on the parent directory\n",
    "    if has_parent_X(fl, \"dual_AGN_datasets\"):\n",
    "        df.loc[len(df)] = {\"file_name\": relative_path, \"classes\": \"dual_agn\"}\n",
    "    elif has_parent_X(fl, \"single_AGN_datasets\"):\n",
    "        df.loc[len(df)] = {\"file_name\": relative_path, \"classes\": \"single_agn\"}\n",
    "    elif has_parent_X(fl, \"merger_datasets\"):\n",
    "        df.loc[len(df)] = {\"file_name\": relative_path, \"classes\": \"merger\"}\n",
    "    elif has_parent_X(fl, \"offset_AGN_datasets\"):\n",
    "        df.loc[len(df)] = {\"file_name\": relative_path, \"classes\": \"offset_agn\"}\n",
    "    else:\n",
    "        df.loc[len(df)] = {\"file_name\": relative_path, \"classes\": \"empty_space\"}"
   ]
  },
  {
   "cell_type": "code",
   "execution_count": 30,
   "id": "8f26241c",
   "metadata": {},
   "outputs": [
    {
     "data": {
      "text/html": [
       "<div>\n",
       "<style scoped>\n",
       "    .dataframe tbody tr th:only-of-type {\n",
       "        vertical-align: middle;\n",
       "    }\n",
       "\n",
       "    .dataframe tbody tr th {\n",
       "        vertical-align: top;\n",
       "    }\n",
       "\n",
       "    .dataframe thead th {\n",
       "        text-align: right;\n",
       "    }\n",
       "</style>\n",
       "<table border=\"1\" class=\"dataframe\">\n",
       "  <thead>\n",
       "    <tr style=\"text-align: right;\">\n",
       "      <th></th>\n",
       "      <th>file_name</th>\n",
       "      <th>classes</th>\n",
       "    </tr>\n",
       "  </thead>\n",
       "  <tbody>\n",
       "    <tr>\n",
       "      <th>0</th>\n",
       "      <td>dual_AGN_datasets/HSC_I/simulated_double_AGN_i...</td>\n",
       "      <td>dual_agn</td>\n",
       "    </tr>\n",
       "    <tr>\n",
       "      <th>1</th>\n",
       "      <td>dual_AGN_datasets/HSC_I/simulated_double_AGN_i...</td>\n",
       "      <td>dual_agn</td>\n",
       "    </tr>\n",
       "    <tr>\n",
       "      <th>2</th>\n",
       "      <td>dual_AGN_datasets/HSC_I/simulated_double_AGN_i...</td>\n",
       "      <td>dual_agn</td>\n",
       "    </tr>\n",
       "    <tr>\n",
       "      <th>3</th>\n",
       "      <td>dual_AGN_datasets/HSC_I/simulated_double_AGN_i...</td>\n",
       "      <td>dual_agn</td>\n",
       "    </tr>\n",
       "    <tr>\n",
       "      <th>4</th>\n",
       "      <td>dual_AGN_datasets/HSC_I/simulated_double_AGN_i...</td>\n",
       "      <td>dual_agn</td>\n",
       "    </tr>\n",
       "    <tr>\n",
       "      <th>...</th>\n",
       "      <td>...</td>\n",
       "      <td>...</td>\n",
       "    </tr>\n",
       "    <tr>\n",
       "      <th>95726</th>\n",
       "      <td>single_AGN_datasets/confirmed_single_AGN_sprin...</td>\n",
       "      <td>single_agn</td>\n",
       "    </tr>\n",
       "    <tr>\n",
       "      <th>95727</th>\n",
       "      <td>single_AGN_datasets/confirmed_single_AGN_sprin...</td>\n",
       "      <td>single_agn</td>\n",
       "    </tr>\n",
       "    <tr>\n",
       "      <th>95728</th>\n",
       "      <td>single_AGN_datasets/confirmed_single_AGN_sprin...</td>\n",
       "      <td>single_agn</td>\n",
       "    </tr>\n",
       "    <tr>\n",
       "      <th>95729</th>\n",
       "      <td>single_AGN_datasets/confirmed_single_AGN_sprin...</td>\n",
       "      <td>single_agn</td>\n",
       "    </tr>\n",
       "    <tr>\n",
       "      <th>95730</th>\n",
       "      <td>single_AGN_datasets/confirmed_single_AGN_sprin...</td>\n",
       "      <td>single_agn</td>\n",
       "    </tr>\n",
       "  </tbody>\n",
       "</table>\n",
       "<p>95731 rows × 2 columns</p>\n",
       "</div>"
      ],
      "text/plain": [
       "                                               file_name     classes\n",
       "0      dual_AGN_datasets/HSC_I/simulated_double_AGN_i...    dual_agn\n",
       "1      dual_AGN_datasets/HSC_I/simulated_double_AGN_i...    dual_agn\n",
       "2      dual_AGN_datasets/HSC_I/simulated_double_AGN_i...    dual_agn\n",
       "3      dual_AGN_datasets/HSC_I/simulated_double_AGN_i...    dual_agn\n",
       "4      dual_AGN_datasets/HSC_I/simulated_double_AGN_i...    dual_agn\n",
       "...                                                  ...         ...\n",
       "95726  single_AGN_datasets/confirmed_single_AGN_sprin...  single_agn\n",
       "95727  single_AGN_datasets/confirmed_single_AGN_sprin...  single_agn\n",
       "95728  single_AGN_datasets/confirmed_single_AGN_sprin...  single_agn\n",
       "95729  single_AGN_datasets/confirmed_single_AGN_sprin...  single_agn\n",
       "95730  single_AGN_datasets/confirmed_single_AGN_sprin...  single_agn\n",
       "\n",
       "[95731 rows x 2 columns]"
      ]
     },
     "execution_count": 30,
     "metadata": {},
     "output_type": "execute_result"
    }
   ],
   "source": [
    "df"
   ]
  },
  {
   "cell_type": "code",
   "execution_count": 31,
   "id": "5c626e33",
   "metadata": {},
   "outputs": [
    {
     "name": "stdout",
     "output_type": "stream",
     "text": [
      "                                               file_name     classes\n",
      "0      dual_AGN_datasets/HSC_I/simulated_double_AGN_i...    dual_agn\n",
      "1      dual_AGN_datasets/train_data/12_with_AGN_1179....    dual_agn\n",
      "2      dual_AGN_datasets/train_data/14_with_AGN_655.fits    dual_agn\n",
      "3       dual_AGN_datasets/train_data/8_with_AGN_902.fits    dual_agn\n",
      "4      dual_AGN_datasets/HSC_I/simulated_double_AGN_i...    dual_agn\n",
      "...                                                  ...         ...\n",
      "19251  single_AGN_datasets/confirmed_single_AGN_fall/...  single_agn\n",
      "19252  single_AGN_datasets/confirmed_single_AGN/QSO_1...  single_agn\n",
      "19253  single_AGN_datasets/confirmed_single_AGN_sprin...  single_agn\n",
      "19254  single_AGN_datasets/confirmed_single_AGN_fall/...  single_agn\n",
      "19255  single_AGN_datasets/confirmed_single_AGN/UNK_0...  single_agn\n",
      "\n",
      "[19256 rows x 2 columns]\n"
     ]
    }
   ],
   "source": [
    "import pandas as pd\n",
    "# Count the occurrences of each class\n",
    "class_counts = df['classes'].value_counts()\n",
    "\n",
    "# Find the minimum count\n",
    "min_count = class_counts.min()\n",
    "\n",
    "# Sample min_count instances from each class\n",
    "balanced_df = df.groupby('classes').apply(lambda x: x.sample(min_count)).reset_index(drop=True)\n",
    "\n",
    "print(balanced_df)"
   ]
  },
  {
   "cell_type": "code",
   "execution_count": 32,
   "id": "9578445f",
   "metadata": {},
   "outputs": [],
   "source": [
    "balanced_df.to_csv(\"info.csv\")"
   ]
  }
 ],
 "metadata": {
  "kernelspec": {
   "display_name": "Python 3 (ipykernel)",
   "language": "python",
   "name": "python3"
  },
  "language_info": {
   "codemirror_mode": {
    "name": "ipython",
    "version": 3
   },
   "file_extension": ".py",
   "mimetype": "text/x-python",
   "name": "python",
   "nbconvert_exporter": "python",
   "pygments_lexer": "ipython3",
   "version": "3.7.12"
  }
 },
 "nbformat": 4,
 "nbformat_minor": 5
}
