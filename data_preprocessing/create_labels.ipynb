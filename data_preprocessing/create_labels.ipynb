{
 "cells": [
  {
   "cell_type": "code",
   "execution_count": 2,
   "id": "c3c6086d",
   "metadata": {},
   "outputs": [],
   "source": [
    "import pandas as pd\n",
    "import pathlib\n",
    "from pathlib import PurePath, Path\n",
    "import numpy as np\n",
    "import os\n",
    "from tqdm import tqdm"
   ]
  },
  {
   "cell_type": "code",
   "execution_count": 3,
   "id": "45bb5b87",
   "metadata": {},
   "outputs": [],
   "source": [
    "def has_parent_X(path: Path, X: str) -> bool:\n",
    "    for parent in path.parents:\n",
    "        if parent.name == X:\n",
    "            return True\n",
    "    return False"
   ]
  },
  {
   "cell_type": "code",
   "execution_count": 4,
   "id": "b24c1f75",
   "metadata": {},
   "outputs": [
    {
     "name": "stderr",
     "output_type": "stream",
     "text": [
      "276266it [07:22, 624.67it/s] \n"
     ]
    }
   ],
   "source": [
    "# Define the base directory\n",
    "data_dir = Path('training_datasets')\n",
    "\n",
    "# Create a list of .fits files in the directory and its subdirectories\n",
    "file_list = data_dir.glob(\"**/**/**/*.fits\")\n",
    "\n",
    "# Initialize the DataFrame with the desired columns\n",
    "df = pd.DataFrame(columns=[\"file_name\", \"classes\"])\n",
    "\n",
    "# Function to check if a file has a specific parent directory\n",
    "def has_parent_X(path, parent_dir):\n",
    "    return parent_dir in path.parts\n",
    "\n",
    "# Iterate through the list of files\n",
    "for fl in tqdm(file_list):\n",
    "    # Remove the 'training_datasets/' prefix from the path\n",
    "    relative_path = fl.relative_to(data_dir).as_posix()\n",
    "    # Determine the class based on the parent directory\n",
    "    if has_parent_X(fl, \"dual_AGN_datasets\") and has_parent_X(fl, \"final_train_data\"):\n",
    "        df.loc[len(df)] = {\"file_name\": relative_path, \"classes\": \"dual_agn\"}\n",
    "    elif has_parent_X(fl, \"single_AGN_datasets\") and has_parent_X(fl, \"confirmed_single_AGN\") and not has_parent_X(fl, \"HSC-I\"):\n",
    "        df.loc[len(df)] = {\"file_name\": relative_path, \"classes\": \"single_agn\"}\n",
    "    elif has_parent_X(fl, \"merger_datasets\") and has_parent_X(fl, \"new_train_data\"):\n",
    "        df.loc[len(df)] = {\"file_name\": relative_path, \"classes\": \"merger\"}\n",
    "    elif has_parent_X(fl, \"offset_AGN_datasets\") and has_parent_X(fl, \"train_data\") and not has_parent_X(fl, \"HSC-I\"):\n",
    "        df.loc[len(df)] = {\"file_name\": relative_path, \"classes\": \"offset_agn\"}\n",
    "    elif has_parent_X(fl, \"empty_space_dataset\") and has_parent_X(fl, \"empty_space_train_data\"):\n",
    "        df.loc[len(df)] = {\"file_name\": relative_path, \"classes\": \"empty_space\"}"
   ]
  },
  {
   "cell_type": "code",
   "execution_count": 5,
   "id": "8f26241c",
   "metadata": {},
   "outputs": [
    {
     "data": {
      "text/html": [
       "<div>\n",
       "<style scoped>\n",
       "    .dataframe tbody tr th:only-of-type {\n",
       "        vertical-align: middle;\n",
       "    }\n",
       "\n",
       "    .dataframe tbody tr th {\n",
       "        vertical-align: top;\n",
       "    }\n",
       "\n",
       "    .dataframe thead th {\n",
       "        text-align: right;\n",
       "    }\n",
       "</style>\n",
       "<table border=\"1\" class=\"dataframe\">\n",
       "  <thead>\n",
       "    <tr style=\"text-align: right;\">\n",
       "      <th></th>\n",
       "      <th>file_name</th>\n",
       "      <th>classes</th>\n",
       "    </tr>\n",
       "  </thead>\n",
       "  <tbody>\n",
       "    <tr>\n",
       "      <th>0</th>\n",
       "      <td>dual_AGN_datasets/final_train_data/object10000...</td>\n",
       "      <td>dual_agn</td>\n",
       "    </tr>\n",
       "    <tr>\n",
       "      <th>1</th>\n",
       "      <td>dual_AGN_datasets/final_train_data/object10000...</td>\n",
       "      <td>dual_agn</td>\n",
       "    </tr>\n",
       "    <tr>\n",
       "      <th>2</th>\n",
       "      <td>dual_AGN_datasets/final_train_data/object10001...</td>\n",
       "      <td>dual_agn</td>\n",
       "    </tr>\n",
       "    <tr>\n",
       "      <th>3</th>\n",
       "      <td>dual_AGN_datasets/final_train_data/object10003...</td>\n",
       "      <td>dual_agn</td>\n",
       "    </tr>\n",
       "    <tr>\n",
       "      <th>4</th>\n",
       "      <td>dual_AGN_datasets/final_train_data/object10003...</td>\n",
       "      <td>dual_agn</td>\n",
       "    </tr>\n",
       "    <tr>\n",
       "      <th>...</th>\n",
       "      <td>...</td>\n",
       "      <td>...</td>\n",
       "    </tr>\n",
       "    <tr>\n",
       "      <th>108801</th>\n",
       "      <td>single_AGN_datasets/confirmed_single_AGN/UNK_1...</td>\n",
       "      <td>single_agn</td>\n",
       "    </tr>\n",
       "    <tr>\n",
       "      <th>108802</th>\n",
       "      <td>single_AGN_datasets/confirmed_single_AGN/UNK_1...</td>\n",
       "      <td>single_agn</td>\n",
       "    </tr>\n",
       "    <tr>\n",
       "      <th>108803</th>\n",
       "      <td>single_AGN_datasets/confirmed_single_AGN/UNK_1...</td>\n",
       "      <td>single_agn</td>\n",
       "    </tr>\n",
       "    <tr>\n",
       "      <th>108804</th>\n",
       "      <td>single_AGN_datasets/confirmed_single_AGN/UNK_1...</td>\n",
       "      <td>single_agn</td>\n",
       "    </tr>\n",
       "    <tr>\n",
       "      <th>108805</th>\n",
       "      <td>single_AGN_datasets/confirmed_single_AGN/UNK_1...</td>\n",
       "      <td>single_agn</td>\n",
       "    </tr>\n",
       "  </tbody>\n",
       "</table>\n",
       "<p>108806 rows × 2 columns</p>\n",
       "</div>"
      ],
      "text/plain": [
       "                                                file_name     classes\n",
       "0       dual_AGN_datasets/final_train_data/object10000...    dual_agn\n",
       "1       dual_AGN_datasets/final_train_data/object10000...    dual_agn\n",
       "2       dual_AGN_datasets/final_train_data/object10001...    dual_agn\n",
       "3       dual_AGN_datasets/final_train_data/object10003...    dual_agn\n",
       "4       dual_AGN_datasets/final_train_data/object10003...    dual_agn\n",
       "...                                                   ...         ...\n",
       "108801  single_AGN_datasets/confirmed_single_AGN/UNK_1...  single_agn\n",
       "108802  single_AGN_datasets/confirmed_single_AGN/UNK_1...  single_agn\n",
       "108803  single_AGN_datasets/confirmed_single_AGN/UNK_1...  single_agn\n",
       "108804  single_AGN_datasets/confirmed_single_AGN/UNK_1...  single_agn\n",
       "108805  single_AGN_datasets/confirmed_single_AGN/UNK_1...  single_agn\n",
       "\n",
       "[108806 rows x 2 columns]"
      ]
     },
     "execution_count": 5,
     "metadata": {},
     "output_type": "execute_result"
    }
   ],
   "source": [
    "df.to_csv(\"training_datasets/info.csv\")\n",
    "df"
   ]
  },
  {
   "cell_type": "code",
   "execution_count": 10,
   "id": "5c626e33",
   "metadata": {},
   "outputs": [
    {
     "name": "stdout",
     "output_type": "stream",
     "text": [
      "dual_agn       55921\n",
      "offset_agn     54457\n",
      "merger         11009\n",
      "empty_space     9336\n",
      "single_agn      5079\n",
      "Name: classes, dtype: int64\n",
      "                                               file_name     classes\n",
      "0      dual_AGN_datasets/final_train_data/object26599...    dual_agn\n",
      "1      dual_AGN_datasets/final_train_data/object3647_...    dual_agn\n",
      "2      dual_AGN_datasets/final_train_data/object23089...    dual_agn\n",
      "3      dual_AGN_datasets/final_train_data/object19495...    dual_agn\n",
      "4      dual_AGN_datasets/final_train_data/object23402...    dual_agn\n",
      "...                                                  ...         ...\n",
      "25390  single_AGN_datasets/HSC-I/confirmed_single_AGN...  single_agn\n",
      "25391  single_AGN_datasets/confirmed_single_AGN/QSO_1...  single_agn\n",
      "25392  single_AGN_datasets/confirmed_single_AGN/QSO_0...  single_agn\n",
      "25393  single_AGN_datasets/confirmed_single_AGN/QSO_0...  single_agn\n",
      "25394  single_AGN_datasets/confirmed_single_AGN/QSO_0...  single_agn\n",
      "\n",
      "[25395 rows x 2 columns]\n",
      "                                                file_name     classes\n",
      "0       dual_AGN_datasets/final_train_data/object10000...    dual_agn\n",
      "1       dual_AGN_datasets/final_train_data/object10000...    dual_agn\n",
      "2       dual_AGN_datasets/final_train_data/object10001...    dual_agn\n",
      "4       dual_AGN_datasets/final_train_data/object10003...    dual_agn\n",
      "5       dual_AGN_datasets/final_train_data/object10003...    dual_agn\n",
      "...                                                   ...         ...\n",
      "130717  offset_AGN_datasets/train_data/object9_with_AG...  offset_agn\n",
      "130718  offset_AGN_datasets/train_data/object9_with_AG...  offset_agn\n",
      "130719  offset_AGN_datasets/train_data/object9_with_AG...  offset_agn\n",
      "130721  offset_AGN_datasets/train_data/object9_with_AG...  offset_agn\n",
      "130722  offset_AGN_datasets/train_data/object9_with_AG...  offset_agn\n",
      "\n",
      "[110407 rows x 2 columns]\n"
     ]
    }
   ],
   "source": [
    "import pandas as pd\n",
    "# Count the occurrences of each class\n",
    "class_counts = df['classes'].value_counts()\n",
    "\n",
    "# Find the minimum count\n",
    "min_count = class_counts.min()\n",
    "print(class_counts)\n",
    "\n",
    "# Sample min_count instances from each class\n",
    "balanced_df = df.groupby('classes').apply(lambda x: x.sample(min_count)).reset_index(drop=True)\n",
    "remaining_df = df[~df[\"file_name\"].isin(balanced_df[\"file_name\"])]\n",
    "\n",
    "print(balanced_df)\n",
    "print(remaining_df)"
   ]
  },
  {
   "cell_type": "code",
   "execution_count": 11,
   "id": "9578445f",
   "metadata": {},
   "outputs": [],
   "source": [
    "df.to_csv(\"training_datasets/info.csv\")"
   ]
  },
  {
   "cell_type": "code",
   "execution_count": null,
   "id": "d4bee8fd",
   "metadata": {},
   "outputs": [],
   "source": []
  }
 ],
 "metadata": {
  "kernelspec": {
   "display_name": "Python 3 (ipykernel)",
   "language": "python",
   "name": "python3"
  },
  "language_info": {
   "codemirror_mode": {
    "name": "ipython",
    "version": 3
   },
   "file_extension": ".py",
   "mimetype": "text/x-python",
   "name": "python",
   "nbconvert_exporter": "python",
   "pygments_lexer": "ipython3",
   "version": "3.7.12"
  }
 },
 "nbformat": 4,
 "nbformat_minor": 5
}
