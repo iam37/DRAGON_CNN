{
 "cells": [
  {
   "cell_type": "markdown",
   "id": "d96bb308-9eec-43e5-8938-6ac117211d5e",
   "metadata": {},
   "source": [
    "## DRAGON *DualFinder*: An Instance of the DRAGON CNN Architecture Specialized for Dual AGN Detection.\n",
    "### Authors: Isaac Moskowitz and Jeremy Ng\n",
    "### Collaborators: C. Meg Urry (PI), Aritra Ghosh. \n",
    "#### Began June 7, 2024\n"
   ]
  },
  {
   "cell_type": "code",
   "execution_count": 1,
   "id": "2275783a-1754-488b-bf1b-0e0d2bb08cdd",
   "metadata": {},
   "outputs": [
    {
     "name": "stderr",
     "output_type": "stream",
     "text": [
      "2024-06-08 17:48:01.529140: I tensorflow/core/util/port.cc:111] oneDNN custom operations are on. You may see slightly different numerical results due to floating-point round-off errors from different computation orders. To turn them off, set the environment variable `TF_ENABLE_ONEDNN_OPTS=0`.\n",
      "2024-06-08 17:48:02.281173: E tensorflow/compiler/xla/stream_executor/cuda/cuda_dnn.cc:9342] Unable to register cuDNN factory: Attempting to register factory for plugin cuDNN when one has already been registered\n",
      "2024-06-08 17:48:02.281203: E tensorflow/compiler/xla/stream_executor/cuda/cuda_fft.cc:609] Unable to register cuFFT factory: Attempting to register factory for plugin cuFFT when one has already been registered\n",
      "2024-06-08 17:48:02.286273: E tensorflow/compiler/xla/stream_executor/cuda/cuda_blas.cc:1518] Unable to register cuBLAS factory: Attempting to register factory for plugin cuBLAS when one has already been registered\n",
      "2024-06-08 17:48:02.644719: I tensorflow/core/platform/cpu_feature_guard.cc:182] This TensorFlow binary is optimized to use available CPU instructions in performance-critical operations.\n",
      "To enable the following instructions: AVX2 AVX512F AVX512_VNNI FMA, in other operations, rebuild TensorFlow with the appropriate compiler flags.\n",
      "2024-06-08 17:48:06.942525: W tensorflow/compiler/tf2tensorrt/utils/py_utils.cc:38] TF-TRT Warning: Could not find TensorRT\n"
     ]
    },
    {
     "name": "stdout",
     "output_type": "stream",
     "text": [
      "GPU is available\n",
      "[PhysicalDevice(name='/physical_device:CPU:0', device_type='CPU'), PhysicalDevice(name='/physical_device:GPU:0', device_type='GPU')]\n",
      "[name: \"/device:CPU:0\"\n",
      "device_type: \"CPU\"\n",
      "memory_limit: 268435456\n",
      "locality {\n",
      "}\n",
      "incarnation: 7707005943228855924\n",
      "xla_global_id: -1\n",
      ", name: \"/device:GPU:0\"\n",
      "device_type: \"GPU\"\n",
      "memory_limit: 32647086080\n",
      "locality {\n",
      "  bus_id: 1\n",
      "  links {\n",
      "  }\n",
      "}\n",
      "incarnation: 11011914678911551095\n",
      "physical_device_desc: \"device: 0, name: Tesla V100-SXM2-32GB, pci bus id: 0000:3b:00.0, compute capability: 7.0\"\n",
      "xla_global_id: 416903419\n",
      "]\n"
     ]
    },
    {
     "name": "stderr",
     "output_type": "stream",
     "text": [
      "2024-06-08 17:48:22.538178: I tensorflow/core/common_runtime/gpu/gpu_device.cc:1886] Created device /device:GPU:0 with 31134 MB memory:  -> device: 0, name: Tesla V100-SXM2-32GB, pci bus id: 0000:3b:00.0, compute capability: 7.0\n"
     ]
    }
   ],
   "source": [
    "import numpy as np\n",
    "import matplotlib.pyplot as plt\n",
    "import tensorflow as tf\n",
    "import torch.nn as nn\n",
    "import logging\n",
    "import pandas as pd\n",
    "import csv\n",
    "import sys\n",
    "from sklearn.utils.class_weight import compute_class_weight\n",
    "from sklearn.metrics import make_scorer, accuracy_score\n",
    "from sklearn.model_selection import cross_val_score \n",
    "from keras import backend as K\n",
    "import os\n",
    "#import tensorflow_addons as tfa\n",
    "import shutil\n",
    "#from dual_finder import DualFinder, loadModelClass\n",
    "%load_ext autoreload\n",
    "%reload_ext autoreload\n",
    "%autoreload 2\n",
    "\n",
    "gpu = len(tf.config.list_physical_devices('GPU'))>0\n",
    "print(\"GPU is\", \"available\" if gpu else \"NOT AVAILABLE\")\n",
    "print(tf.config.list_physical_devices())\n",
    "from tensorflow.python.client import device_lib \n",
    "print(device_lib.list_local_devices())\n",
    "logging.basicConfig(level=logging.INFO, format='%(asctime)s - %(levelname)s - %(message)s')\n",
    "from astropy.io import fits\n",
    "\n",
    "sys.path.append(\"DRAGON_Dual_Finder/dual_finder/cnn/\")\n",
    "sys.path.append(\"DRAGON_Dual_Finder/dual_finder/optimize/\")\n",
    "sys.path.append(\"DRAGON_Dual_Finder/dual_finder/preprocess_data/\")\n",
    "sys.path.append(\"DRAGON_Dual_Finder/dual_finder/visualize/\")\n",
    "from create_cnn import ModelCreator\n",
    "from load_model import loadModelClass\n",
    "from train_cnn import DualFinder\n",
    "from extract_feature_maps import FeatureExtractor\n",
    "from fits_utils import plot_dataset_sample\n",
    "from process_data import make_datasets_other_bands, create_dataset\n",
    "from optimize_hyperparameters import OptimizeHyperparameters\n",
    "from visualize_performance import load_training_history, plot_training_progress, plot_grouped_training_progress, VisualizeOptimization"
   ]
  },
  {
   "cell_type": "code",
   "execution_count": 2,
   "id": "c39798e5-2783-45f4-ae16-b5f1ad4c5ebf",
   "metadata": {},
   "outputs": [
    {
     "name": "stderr",
     "output_type": "stream",
     "text": [
      "2024-06-08 17:48:23,981 - INFO - Loading empty sky images...\n",
      "100%|██████████| 9215/9215 [00:32<00:00, 283.38it/s]\n",
      "0it [00:00, ?it/s]2024-06-08 17:48:57.105390: I tensorflow/core/common_runtime/gpu/gpu_device.cc:1886] Created device /job:localhost/replica:0/task:0/device:GPU:0 with 31134 MB memory:  -> device: 0, name: Tesla V100-SXM2-32GB, pci bus id: 0000:3b:00.0, compute capability: 7.0\n",
      "9215it [01:02, 146.57it/s]\n",
      "2024-06-08 17:50:01,899 - INFO - Loading single AGN images...\n"
     ]
    },
    {
     "name": "stdout",
     "output_type": "stream",
     "text": [
      "Shape of empty_sky_images: (36860, 94, 94, 1)\n"
     ]
    },
    {
     "name": "stderr",
     "output_type": "stream",
     "text": [
      "100%|██████████| 2000/2000 [00:06<00:00, 292.99it/s]\n",
      "2000it [00:44, 44.86it/s]\n",
      "2024-06-08 17:50:54,909 - INFO - Loading dual AGN images...\n"
     ]
    },
    {
     "name": "stdout",
     "output_type": "stream",
     "text": [
      "data_preprocessing/training_datasets/dual_AGN_datasets/train_data/10_with_AGN_407.fits is corrupted or empty, moving on...\n",
      "Total images: (87407, 94, 94, 1)\n",
      "Total labels: (87407,)\n"
     ]
    }
   ],
   "source": [
    "#os.chdir(\"~/\")\n",
    "#!pwd\n",
    "empty_sky_filepath = \"data_preprocessing/training_datasets/empty_space_dataset/empty_space_train_data/\"\n",
    "single_AGN_filepath = \"data_preprocessing/training_datasets/single_AGN_datasets/confirmed_single_AGN/\"\n",
    "dual_AGN_filepath = \"data_preprocessing/training_datasets/dual_AGN_datasets/train_data/\"\n",
    "train_data_labels, val_data_labels, test_data_labels = create_dataset(empty_sky_filepath, single_AGN_filepath, dual_AGN_filepath)\n",
    "train_dataset, train_labels = train_data_labels\n",
    "val_dataset, val_labels = val_data_labels\n",
    "test_dataset, test_labels = test_data_labels\n"
   ]
  },
  {
   "cell_type": "code",
   "execution_count": 3,
   "id": "7df448ee-c3c5-49dd-b7bd-53714e01b981",
   "metadata": {},
   "outputs": [
    {
     "name": "stdout",
     "output_type": "stream",
     "text": [
      "(17481, 94, 94, 1)\n",
      "(17481,)\n"
     ]
    }
   ],
   "source": [
    "print(np.shape(val_dataset))\n",
    "print(np.shape(val_labels))"
   ]
  },
  {
   "cell_type": "code",
   "execution_count": 4,
   "id": "78202199-0208-469f-a93d-8e6dd32a0945",
   "metadata": {},
   "outputs": [
    {
     "name": "stdout",
     "output_type": "stream",
     "text": [
      "['empty_sky' 'empty_sky' 'empty_sky' ... 'dual_AGN' 'single_AGN'\n",
      " 'single_AGN']\n",
      "['empty_sky' 'empty_sky' 'dual_AGN' ... 'single_AGN' 'dual_AGN' 'dual_AGN']\n",
      "Converting to list\n",
      "Converting to list\n",
      "Model: \"sequential\"\n",
      "_________________________________________________________________\n",
      " Layer (type)                Output Shape              Param #   \n",
      "=================================================================\n",
      " rescaling (Rescaling)       (None, 94, 94, 1)         0         \n",
      "                                                                 \n",
      " conv2d (Conv2D)             (None, 47, 47, 64)        640       \n",
      "                                                                 \n",
      " dropout (Dropout)           (None, 47, 47, 64)        0         \n",
      "                                                                 \n",
      " batch_normalization (Batch  (None, 47, 47, 64)        256       \n",
      " Normalization)                                                  \n",
      "                                                                 \n",
      " average_pooling2d (Average  (None, 23, 23, 64)        0         \n",
      " Pooling2D)                                                      \n",
      "                                                                 \n",
      " conv2d_1 (Conv2D)           (None, 12, 12, 96)        55392     \n",
      "                                                                 \n",
      " dropout_1 (Dropout)         (None, 12, 12, 96)        0         \n",
      "                                                                 \n",
      " batch_normalization_1 (Bat  (None, 12, 12, 96)        384       \n",
      " chNormalization)                                                \n",
      "                                                                 \n",
      " average_pooling2d_1 (Avera  (None, 6, 6, 96)          0         \n",
      " gePooling2D)                                                    \n",
      "                                                                 \n",
      " conv2d_2 (Conv2D)           (None, 3, 3, 128)         110720    \n",
      "                                                                 \n",
      " dropout_2 (Dropout)         (None, 3, 3, 128)         0         \n",
      "                                                                 \n",
      " batch_normalization_2 (Bat  (None, 3, 3, 128)         512       \n",
      " chNormalization)                                                \n",
      "                                                                 \n",
      " conv2d_3 (Conv2D)           (None, 2, 2, 256)         295168    \n",
      "                                                                 \n",
      " dropout_3 (Dropout)         (None, 2, 2, 256)         0         \n",
      "                                                                 \n",
      " batch_normalization_3 (Bat  (None, 2, 2, 256)         1024      \n",
      " chNormalization)                                                \n",
      "                                                                 \n",
      " conv2d_4 (Conv2D)           (None, 2, 2, 384)         885120    \n",
      "                                                                 \n",
      " dropout_4 (Dropout)         (None, 2, 2, 384)         0         \n",
      "                                                                 \n",
      " batch_normalization_4 (Bat  (None, 2, 2, 384)         1536      \n",
      " chNormalization)                                                \n",
      "                                                                 \n",
      " conv2d_5 (Conv2D)           (None, 2, 2, 384)         1327488   \n",
      "                                                                 \n",
      " dropout_5 (Dropout)         (None, 2, 2, 384)         0         \n",
      "                                                                 \n",
      " batch_normalization_5 (Bat  (None, 2, 2, 384)         1536      \n",
      " chNormalization)                                                \n",
      "                                                                 \n",
      " conv2d_6 (Conv2D)           (None, 2, 2, 512)         1769984   \n",
      "                                                                 \n",
      " dropout_6 (Dropout)         (None, 2, 2, 512)         0         \n",
      "                                                                 \n",
      " batch_normalization_6 (Bat  (None, 2, 2, 512)         2048      \n",
      " chNormalization)                                                \n",
      "                                                                 \n",
      " average_pooling2d_2 (Avera  (None, 1, 1, 512)         0         \n",
      " gePooling2D)                                                    \n",
      "                                                                 \n",
      " flatten (Flatten)           (None, 512)               0         \n",
      "                                                                 \n",
      " dense (Dense)               (None, 1024)              525312    \n",
      "                                                                 \n",
      " dropout_7 (Dropout)         (None, 1024)              0         \n",
      "                                                                 \n",
      " dense_1 (Dense)             (None, 3)                 3075      \n",
      "                                                                 \n",
      "=================================================================\n",
      "Total params: 4980195 (19.00 MB)\n",
      "Trainable params: 4976547 (18.98 MB)\n",
      "Non-trainable params: 3648 (14.25 KB)\n",
      "_________________________________________________________________\n",
      "Model: \"sequential\"\n",
      "_________________________________________________________________\n",
      " Layer (type)                Output Shape              Param #   \n",
      "=================================================================\n",
      " rescaling (Rescaling)       (None, 94, 94, 1)         0         \n",
      "                                                                 \n",
      " conv2d (Conv2D)             (None, 47, 47, 64)        640       \n",
      "                                                                 \n",
      " dropout (Dropout)           (None, 47, 47, 64)        0         \n",
      "                                                                 \n",
      " batch_normalization (Batch  (None, 47, 47, 64)        256       \n",
      " Normalization)                                                  \n",
      "                                                                 \n",
      " average_pooling2d (Average  (None, 23, 23, 64)        0         \n",
      " Pooling2D)                                                      \n",
      "                                                                 \n",
      " conv2d_1 (Conv2D)           (None, 12, 12, 96)        55392     \n",
      "                                                                 \n",
      " dropout_1 (Dropout)         (None, 12, 12, 96)        0         \n",
      "                                                                 \n",
      " batch_normalization_1 (Bat  (None, 12, 12, 96)        384       \n",
      " chNormalization)                                                \n",
      "                                                                 \n",
      " average_pooling2d_1 (Avera  (None, 6, 6, 96)          0         \n",
      " gePooling2D)                                                    \n",
      "                                                                 \n",
      " conv2d_2 (Conv2D)           (None, 3, 3, 128)         110720    \n",
      "                                                                 \n",
      " dropout_2 (Dropout)         (None, 3, 3, 128)         0         \n",
      "                                                                 \n",
      " batch_normalization_2 (Bat  (None, 3, 3, 128)         512       \n",
      " chNormalization)                                                \n",
      "                                                                 \n",
      " conv2d_3 (Conv2D)           (None, 2, 2, 256)         295168    \n",
      "                                                                 \n",
      " dropout_3 (Dropout)         (None, 2, 2, 256)         0         \n",
      "                                                                 \n",
      " batch_normalization_3 (Bat  (None, 2, 2, 256)         1024      \n",
      " chNormalization)                                                \n",
      "                                                                 \n",
      " conv2d_4 (Conv2D)           (None, 2, 2, 384)         885120    \n",
      "                                                                 \n",
      " dropout_4 (Dropout)         (None, 2, 2, 384)         0         \n",
      "                                                                 \n",
      " batch_normalization_4 (Bat  (None, 2, 2, 384)         1536      \n",
      " chNormalization)                                                \n",
      "                                                                 \n",
      " conv2d_5 (Conv2D)           (None, 2, 2, 384)         1327488   \n",
      "                                                                 \n",
      " dropout_5 (Dropout)         (None, 2, 2, 384)         0         \n",
      "                                                                 \n",
      " batch_normalization_5 (Bat  (None, 2, 2, 384)         1536      \n",
      " chNormalization)                                                \n",
      "                                                                 \n",
      " conv2d_6 (Conv2D)           (None, 2, 2, 512)         1769984   \n",
      "                                                                 \n",
      " dropout_6 (Dropout)         (None, 2, 2, 512)         0         \n",
      "                                                                 \n",
      " batch_normalization_6 (Bat  (None, 2, 2, 512)         2048      \n",
      " chNormalization)                                                \n",
      "                                                                 \n",
      " average_pooling2d_2 (Avera  (None, 1, 1, 512)         0         \n",
      " gePooling2D)                                                    \n",
      "                                                                 \n",
      " flatten (Flatten)           (None, 512)               0         \n",
      "                                                                 \n",
      " dense (Dense)               (None, 1024)              525312    \n",
      "                                                                 \n",
      " dropout_7 (Dropout)         (None, 1024)              0         \n",
      "                                                                 \n",
      " dense_1 (Dense)             (None, 3)                 3075      \n",
      "                                                                 \n",
      "=================================================================\n",
      "Total params: 4980195 (19.00 MB)\n",
      "Trainable params: 4976547 (18.98 MB)\n",
      "Non-trainable params: 3648 (14.25 KB)\n",
      "_________________________________________________________________\n"
     ]
    },
    {
     "name": "stderr",
     "output_type": "stream",
     "text": [
      "2024-06-08 17:52:14,009 - INFO - 'save_feature_maps' == False, NOT saving feature maps\n"
     ]
    },
    {
     "name": "stdout",
     "output_type": "stream",
     "text": [
      "Epoch 1/30\n"
     ]
    },
    {
     "name": "stderr",
     "output_type": "stream",
     "text": [
      "2024-06-08 17:52:18.479271: E tensorflow/core/grappler/optimizers/meta_optimizer.cc:961] layout failed: INVALID_ARGUMENT: Size of values 0 does not match size of permutation 4 @ fanin shape insequential/dropout/dropout/SelectV2-2-TransposeNHWCToNCHW-LayoutOptimizer\n",
      "2024-06-08 17:52:18.992310: I tensorflow/compiler/xla/stream_executor/cuda/cuda_dnn.cc:442] Loaded cuDNN version 8700\n",
      "2024-06-08 17:52:21.433230: I tensorflow/compiler/xla/service/service.cc:168] XLA service 0x154248393370 initialized for platform CUDA (this does not guarantee that XLA will be used). Devices:\n",
      "2024-06-08 17:52:21.433266: I tensorflow/compiler/xla/service/service.cc:176]   StreamExecutor device (0): Tesla V100-SXM2-32GB, Compute Capability 7.0\n",
      "2024-06-08 17:52:21.457880: I tensorflow/compiler/mlir/tensorflow/utils/dump_mlir_util.cc:269] disabling MLIR crash reproducer, set env var `MLIR_CRASH_REPRODUCER_DIRECTORY` to enable.\n",
      "2024-06-08 17:52:21.597394: I ./tensorflow/compiler/jit/device_compiler.h:186] Compiled cluster using XLA!  This line is logged at most once for the lifetime of the process.\n"
     ]
    },
    {
     "name": "stdout",
     "output_type": "stream",
     "text": [
      "INFO:tensorflow:Assets written to: ../saved_dual_finder_models/_checkpoint_training/assets\n"
     ]
    },
    {
     "name": "stderr",
     "output_type": "stream",
     "text": [
      "2024-06-08 17:52:39,018 - INFO - Assets written to: ../saved_dual_finder_models/_checkpoint_training/assets\n"
     ]
    },
    {
     "name": "stdout",
     "output_type": "stream",
     "text": [
      "888/888 - 23s - loss: 20.9021 - accuracy: 0.0000e+00 - recall: 0.7864 - precision: 0.8805 - f1_score: 0.8180 - val_loss: 19.2010 - val_accuracy: 1.9068e-05 - val_recall: 0.9476 - val_precision: 0.9487 - val_f1_score: 0.9419 - 23s/epoch - 26ms/step\n",
      "Epoch 2/30\n",
      "INFO:tensorflow:Assets written to: ../saved_dual_finder_models/_checkpoint_training/assets\n"
     ]
    },
    {
     "name": "stderr",
     "output_type": "stream",
     "text": [
      "2024-06-08 17:52:51,625 - INFO - Assets written to: ../saved_dual_finder_models/_checkpoint_training/assets\n"
     ]
    },
    {
     "name": "stdout",
     "output_type": "stream",
     "text": [
      "888/888 - 13s - loss: 17.8610 - accuracy: 5.8671e-06 - recall: 0.9473 - precision: 0.9499 - f1_score: 0.9423 - val_loss: 16.3812 - val_accuracy: 3.8137e-05 - val_recall: 0.9832 - val_precision: 0.9837 - val_f1_score: 0.9829 - 13s/epoch - 14ms/step\n",
      "Epoch 3/30\n",
      "INFO:tensorflow:Assets written to: ../saved_dual_finder_models/_checkpoint_training/assets\n"
     ]
    },
    {
     "name": "stderr",
     "output_type": "stream",
     "text": [
      "2024-06-08 17:53:04,652 - INFO - Assets written to: ../saved_dual_finder_models/_checkpoint_training/assets\n"
     ]
    },
    {
     "name": "stdout",
     "output_type": "stream",
     "text": [
      "888/888 - 13s - loss: 15.1204 - accuracy: 0.0000e+00 - recall: 0.9627 - precision: 0.9640 - f1_score: 0.9591 - val_loss: 13.7567 - val_accuracy: 3.8137e-05 - val_recall: 0.9874 - val_precision: 0.9876 - val_f1_score: 0.9871 - 13s/epoch - 15ms/step\n",
      "Epoch 4/30\n",
      "INFO:tensorflow:Assets written to: ../saved_dual_finder_models/_checkpoint_training/assets\n"
     ]
    },
    {
     "name": "stderr",
     "output_type": "stream",
     "text": [
      "2024-06-08 17:53:17,710 - INFO - Assets written to: ../saved_dual_finder_models/_checkpoint_training/assets\n"
     ]
    },
    {
     "name": "stdout",
     "output_type": "stream",
     "text": [
      "888/888 - 13s - loss: 12.5981 - accuracy: 1.1734e-05 - recall: 0.9694 - precision: 0.9706 - f1_score: 0.9665 - val_loss: 11.3723 - val_accuracy: 3.8137e-05 - val_recall: 0.9894 - val_precision: 0.9899 - val_f1_score: 0.9893 - 13s/epoch - 15ms/step\n",
      "Epoch 5/30\n",
      "INFO:tensorflow:Assets written to: ../saved_dual_finder_models/_checkpoint_training/assets\n"
     ]
    },
    {
     "name": "stderr",
     "output_type": "stream",
     "text": [
      "2024-06-08 17:53:30,444 - INFO - Assets written to: ../saved_dual_finder_models/_checkpoint_training/assets\n"
     ]
    },
    {
     "name": "stdout",
     "output_type": "stream",
     "text": [
      "888/888 - 13s - loss: 10.3544 - accuracy: 0.0000e+00 - recall: 0.9739 - precision: 0.9748 - f1_score: 0.9715 - val_loss: 9.3001 - val_accuracy: 5.7205e-05 - val_recall: 0.9872 - val_precision: 0.9875 - val_f1_score: 0.9867 - 13s/epoch - 14ms/step\n",
      "Epoch 6/30\n",
      "INFO:tensorflow:Assets written to: ../saved_dual_finder_models/_checkpoint_training/assets\n"
     ]
    },
    {
     "name": "stderr",
     "output_type": "stream",
     "text": [
      "2024-06-08 17:53:43,452 - INFO - Assets written to: ../saved_dual_finder_models/_checkpoint_training/assets\n"
     ]
    },
    {
     "name": "stdout",
     "output_type": "stream",
     "text": [
      "888/888 - 13s - loss: 8.4159 - accuracy: 1.1734e-05 - recall: 0.9771 - precision: 0.9783 - f1_score: 0.9753 - val_loss: 7.5223 - val_accuracy: 7.6273e-05 - val_recall: 0.9916 - val_precision: 0.9920 - val_f1_score: 0.9914 - 13s/epoch - 15ms/step\n",
      "Epoch 7/30\n",
      "INFO:tensorflow:Assets written to: ../saved_dual_finder_models/_checkpoint_training/assets\n"
     ]
    },
    {
     "name": "stderr",
     "output_type": "stream",
     "text": [
      "2024-06-08 17:53:56,128 - INFO - Assets written to: ../saved_dual_finder_models/_checkpoint_training/assets\n"
     ]
    },
    {
     "name": "stdout",
     "output_type": "stream",
     "text": [
      "888/888 - 13s - loss: 6.7942 - accuracy: 5.8671e-06 - recall: 0.9804 - precision: 0.9814 - f1_score: 0.9788 - val_loss: 6.0542 - val_accuracy: 1.9068e-05 - val_recall: 0.9910 - val_precision: 0.9913 - val_f1_score: 0.9903 - 13s/epoch - 14ms/step\n",
      "Epoch 8/30\n",
      "INFO:tensorflow:Assets written to: ../saved_dual_finder_models/_checkpoint_training/assets\n"
     ]
    },
    {
     "name": "stderr",
     "output_type": "stream",
     "text": [
      "2024-06-08 17:54:09,206 - INFO - Assets written to: ../saved_dual_finder_models/_checkpoint_training/assets\n"
     ]
    },
    {
     "name": "stdout",
     "output_type": "stream",
     "text": [
      "888/888 - 13s - loss: 5.4725 - accuracy: 1.1734e-05 - recall: 0.9825 - precision: 0.9833 - f1_score: 0.9811 - val_loss: 4.8799 - val_accuracy: 3.8137e-05 - val_recall: 0.9923 - val_precision: 0.9926 - val_f1_score: 0.9921 - 13s/epoch - 15ms/step\n",
      "Epoch 9/30\n",
      "INFO:tensorflow:Assets written to: ../saved_dual_finder_models/_checkpoint_training/assets\n"
     ]
    },
    {
     "name": "stderr",
     "output_type": "stream",
     "text": [
      "2024-06-08 17:54:21,999 - INFO - Assets written to: ../saved_dual_finder_models/_checkpoint_training/assets\n"
     ]
    },
    {
     "name": "stdout",
     "output_type": "stream",
     "text": [
      "888/888 - 13s - loss: 4.4187 - accuracy: 0.0000e+00 - recall: 0.9840 - precision: 0.9848 - f1_score: 0.9827 - val_loss: 3.9483 - val_accuracy: 9.5342e-05 - val_recall: 0.9935 - val_precision: 0.9938 - val_f1_score: 0.9933 - 13s/epoch - 14ms/step\n",
      "Epoch 10/30\n",
      "INFO:tensorflow:Assets written to: ../saved_dual_finder_models/_checkpoint_training/assets\n"
     ]
    },
    {
     "name": "stderr",
     "output_type": "stream",
     "text": [
      "2024-06-08 17:54:35,085 - INFO - Assets written to: ../saved_dual_finder_models/_checkpoint_training/assets\n"
     ]
    },
    {
     "name": "stdout",
     "output_type": "stream",
     "text": [
      "888/888 - 13s - loss: 3.5903 - accuracy: 1.7601e-05 - recall: 0.9854 - precision: 0.9859 - f1_score: 0.9841 - val_loss: 3.2303 - val_accuracy: 2.4789e-04 - val_recall: 0.9909 - val_precision: 0.9911 - val_f1_score: 0.9903 - 13s/epoch - 15ms/step\n",
      "Epoch 11/30\n",
      "INFO:tensorflow:Assets written to: ../saved_dual_finder_models/_checkpoint_training/assets\n"
     ]
    },
    {
     "name": "stderr",
     "output_type": "stream",
     "text": [
      "2024-06-08 17:54:47,864 - INFO - Assets written to: ../saved_dual_finder_models/_checkpoint_training/assets\n"
     ]
    },
    {
     "name": "stdout",
     "output_type": "stream",
     "text": [
      "888/888 - 13s - loss: 2.9481 - accuracy: 2.3468e-05 - recall: 0.9868 - precision: 0.9874 - f1_score: 0.9858 - val_loss: 2.6519 - val_accuracy: 1.3348e-04 - val_recall: 0.9949 - val_precision: 0.9951 - val_f1_score: 0.9946 - 13s/epoch - 14ms/step\n",
      "Epoch 12/30\n",
      "INFO:tensorflow:Assets written to: ../saved_dual_finder_models/_checkpoint_training/assets\n"
     ]
    },
    {
     "name": "stderr",
     "output_type": "stream",
     "text": [
      "2024-06-08 17:55:01,024 - INFO - Assets written to: ../saved_dual_finder_models/_checkpoint_training/assets\n"
     ]
    },
    {
     "name": "stdout",
     "output_type": "stream",
     "text": [
      "888/888 - 13s - loss: 2.4419 - accuracy: 3.5203e-05 - recall: 0.9880 - precision: 0.9885 - f1_score: 0.9871 - val_loss: 2.2082 - val_accuracy: 1.7161e-04 - val_recall: 0.9939 - val_precision: 0.9939 - val_f1_score: 0.9935 - 13s/epoch - 15ms/step\n",
      "Epoch 13/30\n",
      "INFO:tensorflow:Assets written to: ../saved_dual_finder_models/_checkpoint_training/assets\n"
     ]
    },
    {
     "name": "stderr",
     "output_type": "stream",
     "text": [
      "2024-06-08 17:55:13,803 - INFO - Assets written to: ../saved_dual_finder_models/_checkpoint_training/assets\n"
     ]
    },
    {
     "name": "stdout",
     "output_type": "stream",
     "text": [
      "888/888 - 13s - loss: 2.0454 - accuracy: 4.6937e-05 - recall: 0.9892 - precision: 0.9896 - f1_score: 0.9884 - val_loss: 1.8849 - val_accuracy: 7.0553e-04 - val_recall: 0.9874 - val_precision: 0.9876 - val_f1_score: 0.9859 - 13s/epoch - 14ms/step\n",
      "Epoch 14/30\n",
      "INFO:tensorflow:Assets written to: ../saved_dual_finder_models/_checkpoint_training/assets\n"
     ]
    },
    {
     "name": "stderr",
     "output_type": "stream",
     "text": [
      "2024-06-08 17:55:26,914 - INFO - Assets written to: ../saved_dual_finder_models/_checkpoint_training/assets\n"
     ]
    },
    {
     "name": "stdout",
     "output_type": "stream",
     "text": [
      "888/888 - 13s - loss: 1.7301 - accuracy: 5.2804e-05 - recall: 0.9904 - precision: 0.9907 - f1_score: 0.9897 - val_loss: 1.5837 - val_accuracy: 5.7205e-05 - val_recall: 0.9944 - val_precision: 0.9945 - val_f1_score: 0.9939 - 13s/epoch - 15ms/step\n",
      "Epoch 15/30\n",
      "INFO:tensorflow:Assets written to: ../saved_dual_finder_models/_checkpoint_training/assets\n"
     ]
    },
    {
     "name": "stderr",
     "output_type": "stream",
     "text": [
      "2024-06-08 17:55:39,722 - INFO - Assets written to: ../saved_dual_finder_models/_checkpoint_training/assets\n"
     ]
    },
    {
     "name": "stdout",
     "output_type": "stream",
     "text": [
      "888/888 - 13s - loss: 1.4809 - accuracy: 9.3874e-05 - recall: 0.9907 - precision: 0.9910 - f1_score: 0.9900 - val_loss: 1.3579 - val_accuracy: 3.0509e-04 - val_recall: 0.9963 - val_precision: 0.9965 - val_f1_score: 0.9963 - 13s/epoch - 14ms/step\n",
      "Epoch 16/30\n",
      "INFO:tensorflow:Assets written to: ../saved_dual_finder_models/_checkpoint_training/assets\n"
     ]
    },
    {
     "name": "stderr",
     "output_type": "stream",
     "text": [
      "2024-06-08 17:55:52,870 - INFO - Assets written to: ../saved_dual_finder_models/_checkpoint_training/assets\n"
     ]
    },
    {
     "name": "stdout",
     "output_type": "stream",
     "text": [
      "888/888 - 13s - loss: 1.2815 - accuracy: 9.3874e-05 - recall: 0.9917 - precision: 0.9920 - f1_score: 0.9911 - val_loss: 1.1818 - val_accuracy: 1.9068e-04 - val_recall: 0.9961 - val_precision: 0.9961 - val_f1_score: 0.9958 - 13s/epoch - 15ms/step\n",
      "Epoch 17/30\n",
      "INFO:tensorflow:Assets written to: ../saved_dual_finder_models/_checkpoint_training/assets\n"
     ]
    },
    {
     "name": "stderr",
     "output_type": "stream",
     "text": [
      "2024-06-08 17:56:05,875 - INFO - Assets written to: ../saved_dual_finder_models/_checkpoint_training/assets\n"
     ]
    },
    {
     "name": "stdout",
     "output_type": "stream",
     "text": [
      "888/888 - 13s - loss: 1.1202 - accuracy: 6.4538e-05 - recall: 0.9925 - precision: 0.9926 - f1_score: 0.9919 - val_loss: 1.0373 - val_accuracy: 5.3391e-04 - val_recall: 0.9963 - val_precision: 0.9963 - val_f1_score: 0.9961 - 13s/epoch - 15ms/step\n",
      "Epoch 18/30\n",
      "INFO:tensorflow:Assets written to: ../saved_dual_finder_models/_checkpoint_training/assets\n"
     ]
    },
    {
     "name": "stderr",
     "output_type": "stream",
     "text": [
      "2024-06-08 17:56:18,641 - INFO - Assets written to: ../saved_dual_finder_models/_checkpoint_training/assets\n"
     ]
    },
    {
     "name": "stdout",
     "output_type": "stream",
     "text": [
      "888/888 - 13s - loss: 0.9888 - accuracy: 6.4538e-05 - recall: 0.9927 - precision: 0.9929 - f1_score: 0.9921 - val_loss: 0.9160 - val_accuracy: 6.4832e-04 - val_recall: 0.9973 - val_precision: 0.9973 - val_f1_score: 0.9971 - 13s/epoch - 14ms/step\n",
      "Epoch 19/30\n",
      "INFO:tensorflow:Assets written to: ../saved_dual_finder_models/_checkpoint_training/assets\n"
     ]
    },
    {
     "name": "stderr",
     "output_type": "stream",
     "text": [
      "2024-06-08 17:56:31,807 - INFO - Assets written to: ../saved_dual_finder_models/_checkpoint_training/assets\n"
     ]
    },
    {
     "name": "stdout",
     "output_type": "stream",
     "text": [
      "888/888 - 13s - loss: 0.8787 - accuracy: 9.9741e-05 - recall: 0.9934 - precision: 0.9935 - f1_score: 0.9928 - val_loss: 0.8196 - val_accuracy: 4.9578e-04 - val_recall: 0.9971 - val_precision: 0.9971 - val_f1_score: 0.9970 - 13s/epoch - 15ms/step\n",
      "Epoch 20/30\n",
      "INFO:tensorflow:Assets written to: ../saved_dual_finder_models/_checkpoint_training/assets\n"
     ]
    },
    {
     "name": "stderr",
     "output_type": "stream",
     "text": [
      "2024-06-08 17:56:44,470 - INFO - Assets written to: ../saved_dual_finder_models/_checkpoint_training/assets\n"
     ]
    },
    {
     "name": "stdout",
     "output_type": "stream",
     "text": [
      "888/888 - 13s - loss: 0.7892 - accuracy: 8.8006e-05 - recall: 0.9932 - precision: 0.9935 - f1_score: 0.9927 - val_loss: 0.7363 - val_accuracy: 4.9578e-04 - val_recall: 0.9971 - val_precision: 0.9971 - val_f1_score: 0.9968 - 13s/epoch - 14ms/step\n",
      "Epoch 21/30\n",
      "INFO:tensorflow:Assets written to: ../saved_dual_finder_models/_checkpoint_training/assets\n"
     ]
    },
    {
     "name": "stderr",
     "output_type": "stream",
     "text": [
      "2024-06-08 17:56:57,510 - INFO - Assets written to: ../saved_dual_finder_models/_checkpoint_training/assets\n"
     ]
    },
    {
     "name": "stdout",
     "output_type": "stream",
     "text": [
      "888/888 - 13s - loss: 0.7152 - accuracy: 1.1734e-04 - recall: 0.9931 - precision: 0.9933 - f1_score: 0.9926 - val_loss: 0.6722 - val_accuracy: 5.7205e-04 - val_recall: 0.9962 - val_precision: 0.9962 - val_f1_score: 0.9958 - 13s/epoch - 15ms/step\n",
      "Epoch 22/30\n",
      "INFO:tensorflow:Assets written to: ../saved_dual_finder_models/_checkpoint_training/assets\n"
     ]
    },
    {
     "name": "stderr",
     "output_type": "stream",
     "text": [
      "2024-06-08 17:57:10,215 - INFO - Assets written to: ../saved_dual_finder_models/_checkpoint_training/assets\n"
     ]
    },
    {
     "name": "stdout",
     "output_type": "stream",
     "text": [
      "888/888 - 13s - loss: 0.6510 - accuracy: 9.9741e-05 - recall: 0.9936 - precision: 0.9940 - f1_score: 0.9932 - val_loss: 0.6134 - val_accuracy: 7.0553e-04 - val_recall: 0.9965 - val_precision: 0.9968 - val_f1_score: 0.9964 - 13s/epoch - 14ms/step\n",
      "Epoch 23/30\n",
      "INFO:tensorflow:Assets written to: ../saved_dual_finder_models/_checkpoint_training/assets\n"
     ]
    },
    {
     "name": "stderr",
     "output_type": "stream",
     "text": [
      "2024-06-08 17:57:23,395 - INFO - Assets written to: ../saved_dual_finder_models/_checkpoint_training/assets\n"
     ]
    },
    {
     "name": "stdout",
     "output_type": "stream",
     "text": [
      "888/888 - 13s - loss: 0.5955 - accuracy: 9.9741e-05 - recall: 0.9941 - precision: 0.9943 - f1_score: 0.9936 - val_loss: 0.5644 - val_accuracy: 3.8137e-05 - val_recall: 0.9969 - val_precision: 0.9969 - val_f1_score: 0.9967 - 13s/epoch - 15ms/step\n",
      "Epoch 24/30\n",
      "INFO:tensorflow:Assets written to: ../saved_dual_finder_models/_checkpoint_training/assets\n"
     ]
    },
    {
     "name": "stderr",
     "output_type": "stream",
     "text": [
      "2024-06-08 17:57:36,292 - INFO - Assets written to: ../saved_dual_finder_models/_checkpoint_training/assets\n"
     ]
    },
    {
     "name": "stdout",
     "output_type": "stream",
     "text": [
      "888/888 - 13s - loss: 0.5465 - accuracy: 1.1147e-04 - recall: 0.9947 - precision: 0.9949 - f1_score: 0.9943 - val_loss: 0.5160 - val_accuracy: 4.5764e-04 - val_recall: 0.9974 - val_precision: 0.9974 - val_f1_score: 0.9973 - 13s/epoch - 15ms/step\n",
      "Epoch 25/30\n",
      "INFO:tensorflow:Assets written to: ../saved_dual_finder_models/_checkpoint_training/assets\n"
     ]
    },
    {
     "name": "stderr",
     "output_type": "stream",
     "text": [
      "2024-06-08 17:57:49,394 - INFO - Assets written to: ../saved_dual_finder_models/_checkpoint_training/assets\n"
     ]
    },
    {
     "name": "stdout",
     "output_type": "stream",
     "text": [
      "888/888 - 13s - loss: 0.5030 - accuracy: 9.9741e-05 - recall: 0.9955 - precision: 0.9956 - f1_score: 0.9951 - val_loss: 0.4724 - val_accuracy: 4.0043e-04 - val_recall: 0.9985 - val_precision: 0.9985 - val_f1_score: 0.9984 - 13s/epoch - 15ms/step\n",
      "Epoch 26/30\n",
      "INFO:tensorflow:Assets written to: ../saved_dual_finder_models/_checkpoint_training/assets\n"
     ]
    },
    {
     "name": "stderr",
     "output_type": "stream",
     "text": [
      "2024-06-08 17:58:02,196 - INFO - Assets written to: ../saved_dual_finder_models/_checkpoint_training/assets\n"
     ]
    },
    {
     "name": "stdout",
     "output_type": "stream",
     "text": [
      "888/888 - 13s - loss: 0.4663 - accuracy: 1.5841e-04 - recall: 0.9952 - precision: 0.9954 - f1_score: 0.9949 - val_loss: 0.4431 - val_accuracy: 6.4832e-04 - val_recall: 0.9979 - val_precision: 0.9980 - val_f1_score: 0.9978 - 13s/epoch - 14ms/step\n",
      "Epoch 27/30\n",
      "INFO:tensorflow:Assets written to: ../saved_dual_finder_models/_checkpoint_training/assets\n"
     ]
    },
    {
     "name": "stderr",
     "output_type": "stream",
     "text": [
      "2024-06-08 17:58:15,298 - INFO - Assets written to: ../saved_dual_finder_models/_checkpoint_training/assets\n"
     ]
    },
    {
     "name": "stdout",
     "output_type": "stream",
     "text": [
      "888/888 - 13s - loss: 0.4331 - accuracy: 1.6428e-04 - recall: 0.9952 - precision: 0.9954 - f1_score: 0.9949 - val_loss: 0.4170 - val_accuracy: 2.4789e-04 - val_recall: 0.9966 - val_precision: 0.9966 - val_f1_score: 0.9963 - 13s/epoch - 15ms/step\n",
      "Epoch 28/30\n",
      "INFO:tensorflow:Assets written to: ../saved_dual_finder_models/_checkpoint_training/assets\n"
     ]
    },
    {
     "name": "stderr",
     "output_type": "stream",
     "text": [
      "2024-06-08 17:58:28,150 - INFO - Assets written to: ../saved_dual_finder_models/_checkpoint_training/assets\n"
     ]
    },
    {
     "name": "stdout",
     "output_type": "stream",
     "text": [
      "888/888 - 13s - loss: 0.4041 - accuracy: 1.4081e-04 - recall: 0.9955 - precision: 0.9957 - f1_score: 0.9953 - val_loss: 0.3817 - val_accuracy: 8.5807e-04 - val_recall: 0.9982 - val_precision: 0.9985 - val_f1_score: 0.9984 - 13s/epoch - 14ms/step\n",
      "Epoch 29/30\n",
      "INFO:tensorflow:Assets written to: ../saved_dual_finder_models/_checkpoint_training/assets\n"
     ]
    },
    {
     "name": "stderr",
     "output_type": "stream",
     "text": [
      "2024-06-08 17:58:41,117 - INFO - Assets written to: ../saved_dual_finder_models/_checkpoint_training/assets\n"
     ]
    },
    {
     "name": "stdout",
     "output_type": "stream",
     "text": [
      "888/888 - 13s - loss: 0.3770 - accuracy: 2.3468e-04 - recall: 0.9961 - precision: 0.9962 - f1_score: 0.9958 - val_loss: 0.3621 - val_accuracy: 3.2416e-04 - val_recall: 0.9973 - val_precision: 0.9973 - val_f1_score: 0.9970 - 13s/epoch - 15ms/step\n",
      "Epoch 30/30\n",
      "INFO:tensorflow:Assets written to: ../saved_dual_finder_models/_checkpoint_training/assets\n"
     ]
    },
    {
     "name": "stderr",
     "output_type": "stream",
     "text": [
      "2024-06-08 17:58:53,872 - INFO - Assets written to: ../saved_dual_finder_models/_checkpoint_training/assets\n"
     ]
    },
    {
     "name": "stdout",
     "output_type": "stream",
     "text": [
      "888/888 - 13s - loss: 0.3535 - accuracy: 2.5229e-04 - recall: 0.9960 - precision: 0.9961 - f1_score: 0.9957 - val_loss: 0.3406 - val_accuracy: 0.0011 - val_recall: 0.9972 - val_precision: 0.9973 - val_f1_score: 0.9972 - 13s/epoch - 14ms/step\n"
     ]
    },
    {
     "name": "stderr",
     "output_type": "stream",
     "text": [
      "/home/iam37/.conda/envs/DualFinder/lib/python3.11/site-packages/keras/src/engine/training.py:3079: UserWarning: You are saving your model as an HDF5 file via `model.save()`. This file format is considered legacy. We recommend using instead the native Keras format, e.g. `model.save('my_model.keras')`.\n",
      "  saving_api.save_model(\n"
     ]
    }
   ],
   "source": [
    "image_shape = (94,94,1)\n",
    "epoch = 30\n",
    "batch_size = 64\n",
    "init_learning_rate = 1e-5\n",
    "num_classes = 3\n",
    "model_type = 'dualfinder'\n",
    "\n",
    "\n",
    "dual_finder_instance = DualFinder(train_dataset, val_dataset, image_shape, train_labels, val_labels, epoch, batch_size, init_learning_rate, num_classes, model_type, display_architecture = True)\n",
    "history, dual_finder_model = dual_finder_instance.trainCNN(save_feature_maps = False)"
   ]
  },
  {
   "cell_type": "code",
   "execution_count": null,
   "id": "de631d23-d01f-4761-892b-da8c15375e7a",
   "metadata": {},
   "outputs": [],
   "source": []
  }
 ],
 "metadata": {
  "kernelspec": {
   "display_name": "Python 3 (ipykernel)",
   "language": "python",
   "name": "python3"
  },
  "language_info": {
   "codemirror_mode": {
    "name": "ipython",
    "version": 3
   },
   "file_extension": ".py",
   "mimetype": "text/x-python",
   "name": "python",
   "nbconvert_exporter": "python",
   "pygments_lexer": "ipython3",
   "version": "3.11.8"
  }
 },
 "nbformat": 4,
 "nbformat_minor": 5
}
