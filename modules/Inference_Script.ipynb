{
 "cells": [
  {
   "cell_type": "code",
   "execution_count": 34,
   "id": "d9a0b9ed",
   "metadata": {},
   "outputs": [],
   "source": [
    "import os\n",
    "import sys\n",
    "import pandas as pd"
   ]
  },
  {
   "cell_type": "code",
   "execution_count": 37,
   "id": "792cd835",
   "metadata": {},
   "outputs": [
    {
     "name": "stdout",
     "output_type": "stream",
     "text": [
      "/home/jen55/urry2023/jen55/DRAGON_CNN\n"
     ]
    }
   ],
   "source": [
    "%%bash\n",
    "\n",
    "cd /home/jen55/urry2023/jen55/DRAGON_CNN && PYTHONPATH=$(pwd) ; export PYTHONPATH && pwd"
   ]
  },
  {
   "cell_type": "code",
   "execution_count": 43,
   "id": "feb83e07",
   "metadata": {},
   "outputs": [],
   "source": [
    "os.environ[\"PYTHONPATH\"] = os.getcwd()"
   ]
  },
  {
   "cell_type": "code",
   "execution_count": null,
   "id": "3e3230a2",
   "metadata": {},
   "outputs": [],
   "source": [
    "%%bash\n",
    "\n",
    "python modules/inference.py \\\n",
    "--model_path='models/merger_hsc_test-balanced-dev2-mtibrihw.pt' \\\n",
    "--model_type='dragon' \\\n",
    "--output_path='data_preprocessing/merger_training' \\\n",
    "--data_dir='data_preprocessing/merger_training' \\\n",
    "--slug='balanced-dev2' \\\n",
    "--n_workers=4 \\\n",
    "--parallel \\\n",
    "--batch_size=16 \\\n",
    "--label_col='classes' \\\n",
    "--n_classes=3 \\\n",
    "--normalize \\\n",
    "--dropout_rate=0.0004 \\\n",
    "--cutout_size=250 \\\n",
    "--channels=1"
   ]
  },
  {
   "cell_type": "code",
   "execution_count": null,
   "id": "225464d0",
   "metadata": {},
   "outputs": [],
   "source": [
    "def load_fits_images(data_path, target_shape=(250, 250)):\n",
    "    training_images = []\n",
    "    image_files = []\n",
    "\n",
    "    #for image_path in tqdm(data_path.glob(\"**/*.fits\")):\n",
    "    for image_path in tqdm(glob.glob(data_path + \"*.fits\")):\n",
    "        with fits.open(image_path, memmap=False) as hdul:\n",
    "            img = hdul[1].data\n",
    "            if img is not None and img.shape >= target_shape:\n",
    "                img = cropND(img, target_shape)\n",
    "                training_images.append(img)\n",
    "                image_files.append(str(image_path))\n",
    "                \n",
    "    return training_images, image_files\n",
    "\n",
    "merger_images, merger_files = load_fits_images(\"merger_training/mergers\")\n",
    "empty_space_images, empty_space_files = load_fits_images(\"merger_training/empty_space\")\n",
    "non_merger_images, non_merger_files = laod_fits_images(\"merger_training/non_mergers\")"
   ]
  }
 ],
 "metadata": {
  "kernelspec": {
   "display_name": "Python 3 (ipykernel)",
   "language": "python",
   "name": "python3"
  },
  "language_info": {
   "codemirror_mode": {
    "name": "ipython",
    "version": 3
   },
   "file_extension": ".py",
   "mimetype": "text/x-python",
   "name": "python",
   "nbconvert_exporter": "python",
   "pygments_lexer": "ipython3",
   "version": "3.7.12"
  }
 },
 "nbformat": 4,
 "nbformat_minor": 5
}
