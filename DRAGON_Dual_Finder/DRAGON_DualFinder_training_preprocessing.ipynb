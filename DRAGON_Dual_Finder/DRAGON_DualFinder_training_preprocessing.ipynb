{
 "cells": [
  {
   "cell_type": "markdown",
   "id": "d96bb308-9eec-43e5-8938-6ac117211d5e",
   "metadata": {},
   "source": [
    "## DRAGON *DualFinder*: An Instance of the DRAGON CNN Architecture Specialized for Dual AGN Detection.\n",
    "### Authors: Isaac Moskowitz and Jeremy Ng\n",
    "### Collaborators: C. Meg Urry (PI), Aritra Ghosh. \n",
    "#### Began June 7, 2024\n"
   ]
  },
  {
   "cell_type": "code",
   "execution_count": 2,
   "id": "2275783a-1754-488b-bf1b-0e0d2bb08cdd",
   "metadata": {},
   "outputs": [
    {
     "name": "stdout",
     "output_type": "stream",
     "text": [
      "The autoreload extension is already loaded. To reload it, use:\n",
      "  %reload_ext autoreload\n",
      "GPU is available\n",
      "[PhysicalDevice(name='/physical_device:CPU:0', device_type='CPU'), PhysicalDevice(name='/physical_device:GPU:0', device_type='GPU')]\n",
      "[name: \"/device:CPU:0\"\n",
      "device_type: \"CPU\"\n",
      "memory_limit: 268435456\n",
      "locality {\n",
      "}\n",
      "incarnation: 13200898531546403824\n",
      "xla_global_id: -1\n",
      ", name: \"/device:GPU:0\"\n",
      "device_type: \"GPU\"\n",
      "memory_limit: 15480651776\n",
      "locality {\n",
      "  bus_id: 1\n",
      "  links {\n",
      "  }\n",
      "}\n",
      "incarnation: 11023618364875629463\n",
      "physical_device_desc: \"device: 0, name: Quadro RTX 5000, pci bus id: 0000:3b:00.0, compute capability: 7.5\"\n",
      "xla_global_id: 416903419\n",
      "]\n"
     ]
    },
    {
     "name": "stderr",
     "output_type": "stream",
     "text": [
      "2024-06-07 15:17:04.820404: I tensorflow/core/common_runtime/gpu/gpu_device.cc:1886] Created device /device:GPU:0 with 14763 MB memory:  -> device: 0, name: Quadro RTX 5000, pci bus id: 0000:3b:00.0, compute capability: 7.5\n"
     ]
    }
   ],
   "source": [
    "import numpy as np\n",
    "import matplotlib.pyplot as plt\n",
    "import tensorflow as tf\n",
    "import torch.nn as nn\n",
    "import logging\n",
    "import pandas as pd\n",
    "import csv\n",
    "import sys\n",
    "from sklearn.utils.class_weight import compute_class_weight\n",
    "from sklearn.metrics import make_scorer, accuracy_score\n",
    "from sklearn.model_selection import cross_val_score \n",
    "from keras import backend as K\n",
    "#import tensorflow_addons as tfa\n",
    "import shutil\n",
    "#from dual_finder import DualFinder, loadModelClass\n",
    "%load_ext autoreload\n",
    "%reload_ext autoreload\n",
    "%autoreload 2\n",
    "\n",
    "gpu = len(tf.config.list_physical_devices('GPU'))>0\n",
    "print(\"GPU is\", \"available\" if gpu else \"NOT AVAILABLE\")\n",
    "print(tf.config.list_physical_devices())\n",
    "from tensorflow.python.client import device_lib \n",
    "print(device_lib.list_local_devices())\n",
    "logging.basicConfig(level=logging.INFO, format='%(asctime)s - %(levelname)s - %(message)s')\n",
    "from astropy.io import fits\n",
    "\n",
    "sys.path.append(\"dual_finder/cnn/\")\n",
    "sys.path.append(\"dual_finder/optimize/\")\n",
    "sys.path.append(\"dual_finder/preprocess_data/\")\n",
    "sys.path.append(\"dual_finder/visualize/\")\n",
    "from create_cnn import ModelCreator\n",
    "from load_model import loadModelClass\n",
    "from train_cnn import DualFinder\n",
    "from extract_feature_maps import FeatureExtractor\n",
    "from fits_utils import plot_dataset_sample\n",
    "from process_data import make_datasets_other_bands, create_dataset\n",
    "from optimize_hyperparameters import OptimizeHyperparameters\n",
    "from visualize_performance import load_training_history, plot_training_progress, plot_grouped_training_progress, VisualizeOptimization"
   ]
  },
  {
   "cell_type": "code",
   "execution_count": null,
   "id": "c39798e5-2783-45f4-ae16-b5f1ad4c5ebf",
   "metadata": {},
   "outputs": [],
   "source": []
  }
 ],
 "metadata": {
  "kernelspec": {
   "display_name": "Python 3 (ipykernel)",
   "language": "python",
   "name": "python3"
  },
  "language_info": {
   "codemirror_mode": {
    "name": "ipython",
    "version": 3
   },
   "file_extension": ".py",
   "mimetype": "text/x-python",
   "name": "python",
   "nbconvert_exporter": "python",
   "pygments_lexer": "ipython3",
   "version": "3.11.8"
  }
 },
 "nbformat": 4,
 "nbformat_minor": 5
}
